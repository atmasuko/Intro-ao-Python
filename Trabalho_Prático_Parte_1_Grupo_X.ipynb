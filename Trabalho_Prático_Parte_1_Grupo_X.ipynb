{
  "cells": [
    {
      "cell_type": "markdown",
      "metadata": {
        "id": "view-in-github",
        "colab_type": "text"
      },
      "source": [
        "<a href=\"https://colab.research.google.com/github/atmasuko/Intro-ao-Python/blob/main/Trabalho_Pr%C3%A1tico_Parte_1_Grupo_X.ipynb\" target=\"_parent\"><img src=\"https://colab.research.google.com/assets/colab-badge.svg\" alt=\"Open In Colab\"/></a>"
      ]
    },
    {
      "cell_type": "markdown",
      "id": "f871ef43",
      "metadata": {
        "id": "f871ef43"
      },
      "source": [
        "# Trabalho Prático - Análise Exploratória\n",
        "\n",
        "\n",
        "**Contextualização:** Hoje é o seu primeiro dia em uma grande multinacional. Sabendo da sua expertise em programação Python e análise de dados, seu coordenador te pede para analisar uma base de dados e apresentar alguns dos insights obtidos. Ele também gostaria de entender um pouco mais sobre programação, então você poderá mostrar algumas das principais tarefas que fez para chegar às conclusões. \n",
        "\n",
        "**Objetivo:** O objetivo deste trabalho é praticar alguns dos conceitos vistos em sala de aula. Vocês deverão fazer a coleta de uma base de dados e explorá-la usando os métodos da biblioteca pandas e algumas visualizações.\n",
        "\n",
        "**Apresentação:** O grupo deverá apresentar utilizando o Jupyter Notebook e terá até 10 minutos para fazer a apresentação. \n"
      ]
    },
    {
      "cell_type": "markdown",
      "id": "26700065",
      "metadata": {
        "id": "26700065"
      },
      "source": [
        "**Algumas perguntas que devem ser respondidas:**\n",
        "\n",
        "* Quantidade de observações totais no conjunto de dados\n",
        "* Quantidade de observações únicas (visão usuário)\n",
        "* Quantidade de variaveis no conjunto de dados\n",
        "* Se existem valores duplicados ou nulos e quantos são\n",
        "\n",
        "Usem visualizações o maximo de vezes que for possível"
      ]
    },
    {
      "cell_type": "markdown",
      "id": "38783b17",
      "metadata": {
        "id": "38783b17"
      },
      "source": [
        "**Dicas para uma boa análise exploratória** \n",
        "\n",
        "* Faça perguntas aos dados. O que é possível descobrir com essas informações? \n",
        "* Procure referências sobre o assunto \n",
        "* Não tenha medo de errar! Pode ser que você tenha uma hipótese que não será identificada nesses dados, isso faz parte do processo! "
      ]
    },
    {
      "cell_type": "markdown",
      "id": "b334944b",
      "metadata": {
        "id": "b334944b"
      },
      "source": [
        "Datasets disponíveis: \n",
        "        \n",
        "* Covid-19: https://www.kaggle.com/datasets/bobohe/vaccine-tweet-and-mention-network?select=vaccine_original.csv\n",
        "\n",
        "\n",
        "* Airline Twitter: https://data.world/crowdflower/airline-twitter-sentiment\n",
        "\n",
        "\n",
        "* Eleições Equador: https://www.kaggle.com/datasets/theworstone/sentimentanalysisecuador2021\n",
        "\n",
        "\n",
        "* Tokyo Olimpycs: https://www.kaggle.com/datasets/gpreda/tokyo-olympics-2020-tweets\n"
      ]
    },
    {
      "cell_type": "markdown",
      "id": "90c7d911",
      "metadata": {
        "id": "90c7d911"
      },
      "source": [
        "## Em relação a Airline"
      ]
    },
    {
      "cell_type": "code",
      "execution_count": null,
      "id": "3dbf8212",
      "metadata": {
        "colab": {
          "base_uri": "https://localhost:8080/",
          "height": 527
        },
        "id": "3dbf8212",
        "outputId": "46e42125-d8c6-4bfb-b793-1227cb68a634"
      },
      "outputs": [
        {
          "output_type": "execute_result",
          "data": {
            "text/plain": [
              "           _golden _unit_state  _trusted_judgments _last_judgment_at  \\\n",
              "_unit_id                                                               \n",
              "681448150    False   finalized                   3      2/25/15 5:24   \n",
              "681448153    False   finalized                   3      2/25/15 1:53   \n",
              "681448156    False   finalized                   3     2/25/15 10:01   \n",
              "681448158    False   finalized                   3      2/25/15 3:05   \n",
              "681448159    False   finalized                   3      2/25/15 5:50   \n",
              "\n",
              "          airline_sentiment  airline_sentiment:confidence negativereason  \\\n",
              "_unit_id                                                                   \n",
              "681448150           neutral                        1.0000            NaN   \n",
              "681448153          positive                        0.3486            NaN   \n",
              "681448156           neutral                        0.6837            NaN   \n",
              "681448158          negative                        1.0000     Bad Flight   \n",
              "681448159          negative                        1.0000     Can't Tell   \n",
              "\n",
              "           negativereason:confidence         airline airline_sentiment_gold  \\\n",
              "_unit_id                                                                      \n",
              "681448150                        NaN  Virgin America                    NaN   \n",
              "681448153                     0.0000  Virgin America                    NaN   \n",
              "681448156                        NaN  Virgin America                    NaN   \n",
              "681448158                     0.7033  Virgin America                    NaN   \n",
              "681448159                     1.0000  Virgin America                    NaN   \n",
              "\n",
              "                 name negativereason_gold  retweet_count  \\\n",
              "_unit_id                                                   \n",
              "681448150     cairdin                 NaN              0   \n",
              "681448153    jnardino                 NaN              0   \n",
              "681448156  yvonnalynn                 NaN              0   \n",
              "681448158    jnardino                 NaN              0   \n",
              "681448159    jnardino                 NaN              0   \n",
              "\n",
              "                                                        text tweet_coord  \\\n",
              "_unit_id                                                                   \n",
              "681448150                @VirginAmerica What @dhepburn said.         NaN   \n",
              "681448153  @VirginAmerica plus you've added commercials t...         NaN   \n",
              "681448156  @VirginAmerica I didn't today... Must mean I n...         NaN   \n",
              "681448158  @VirginAmerica it's really aggressive to blast...         NaN   \n",
              "681448159  @VirginAmerica and it's a really big bad thing...         NaN   \n",
              "\n",
              "           tweet_created      tweet_id tweet_location  \\\n",
              "_unit_id                                                \n",
              "681448150  2/24/15 11:35  5.703060e+17            NaN   \n",
              "681448153  2/24/15 11:15  5.703010e+17            NaN   \n",
              "681448156  2/24/15 11:15  5.703010e+17      Lets Play   \n",
              "681448158  2/24/15 11:15  5.703010e+17            NaN   \n",
              "681448159  2/24/15 11:14  5.703010e+17            NaN   \n",
              "\n",
              "                        user_timezone  \n",
              "_unit_id                               \n",
              "681448150  Eastern Time (US & Canada)  \n",
              "681448153  Pacific Time (US & Canada)  \n",
              "681448156  Central Time (US & Canada)  \n",
              "681448158  Pacific Time (US & Canada)  \n",
              "681448159  Pacific Time (US & Canada)  "
            ],
            "text/html": [
              "\n",
              "  <div id=\"df-b3de7b1d-8530-45c5-abd9-72fca962e543\">\n",
              "    <div class=\"colab-df-container\">\n",
              "      <div>\n",
              "<style scoped>\n",
              "    .dataframe tbody tr th:only-of-type {\n",
              "        vertical-align: middle;\n",
              "    }\n",
              "\n",
              "    .dataframe tbody tr th {\n",
              "        vertical-align: top;\n",
              "    }\n",
              "\n",
              "    .dataframe thead th {\n",
              "        text-align: right;\n",
              "    }\n",
              "</style>\n",
              "<table border=\"1\" class=\"dataframe\">\n",
              "  <thead>\n",
              "    <tr style=\"text-align: right;\">\n",
              "      <th></th>\n",
              "      <th>_golden</th>\n",
              "      <th>_unit_state</th>\n",
              "      <th>_trusted_judgments</th>\n",
              "      <th>_last_judgment_at</th>\n",
              "      <th>airline_sentiment</th>\n",
              "      <th>airline_sentiment:confidence</th>\n",
              "      <th>negativereason</th>\n",
              "      <th>negativereason:confidence</th>\n",
              "      <th>airline</th>\n",
              "      <th>airline_sentiment_gold</th>\n",
              "      <th>name</th>\n",
              "      <th>negativereason_gold</th>\n",
              "      <th>retweet_count</th>\n",
              "      <th>text</th>\n",
              "      <th>tweet_coord</th>\n",
              "      <th>tweet_created</th>\n",
              "      <th>tweet_id</th>\n",
              "      <th>tweet_location</th>\n",
              "      <th>user_timezone</th>\n",
              "    </tr>\n",
              "    <tr>\n",
              "      <th>_unit_id</th>\n",
              "      <th></th>\n",
              "      <th></th>\n",
              "      <th></th>\n",
              "      <th></th>\n",
              "      <th></th>\n",
              "      <th></th>\n",
              "      <th></th>\n",
              "      <th></th>\n",
              "      <th></th>\n",
              "      <th></th>\n",
              "      <th></th>\n",
              "      <th></th>\n",
              "      <th></th>\n",
              "      <th></th>\n",
              "      <th></th>\n",
              "      <th></th>\n",
              "      <th></th>\n",
              "      <th></th>\n",
              "      <th></th>\n",
              "    </tr>\n",
              "  </thead>\n",
              "  <tbody>\n",
              "    <tr>\n",
              "      <th>681448150</th>\n",
              "      <td>False</td>\n",
              "      <td>finalized</td>\n",
              "      <td>3</td>\n",
              "      <td>2/25/15 5:24</td>\n",
              "      <td>neutral</td>\n",
              "      <td>1.0000</td>\n",
              "      <td>NaN</td>\n",
              "      <td>NaN</td>\n",
              "      <td>Virgin America</td>\n",
              "      <td>NaN</td>\n",
              "      <td>cairdin</td>\n",
              "      <td>NaN</td>\n",
              "      <td>0</td>\n",
              "      <td>@VirginAmerica What @dhepburn said.</td>\n",
              "      <td>NaN</td>\n",
              "      <td>2/24/15 11:35</td>\n",
              "      <td>5.703060e+17</td>\n",
              "      <td>NaN</td>\n",
              "      <td>Eastern Time (US &amp; Canada)</td>\n",
              "    </tr>\n",
              "    <tr>\n",
              "      <th>681448153</th>\n",
              "      <td>False</td>\n",
              "      <td>finalized</td>\n",
              "      <td>3</td>\n",
              "      <td>2/25/15 1:53</td>\n",
              "      <td>positive</td>\n",
              "      <td>0.3486</td>\n",
              "      <td>NaN</td>\n",
              "      <td>0.0000</td>\n",
              "      <td>Virgin America</td>\n",
              "      <td>NaN</td>\n",
              "      <td>jnardino</td>\n",
              "      <td>NaN</td>\n",
              "      <td>0</td>\n",
              "      <td>@VirginAmerica plus you've added commercials t...</td>\n",
              "      <td>NaN</td>\n",
              "      <td>2/24/15 11:15</td>\n",
              "      <td>5.703010e+17</td>\n",
              "      <td>NaN</td>\n",
              "      <td>Pacific Time (US &amp; Canada)</td>\n",
              "    </tr>\n",
              "    <tr>\n",
              "      <th>681448156</th>\n",
              "      <td>False</td>\n",
              "      <td>finalized</td>\n",
              "      <td>3</td>\n",
              "      <td>2/25/15 10:01</td>\n",
              "      <td>neutral</td>\n",
              "      <td>0.6837</td>\n",
              "      <td>NaN</td>\n",
              "      <td>NaN</td>\n",
              "      <td>Virgin America</td>\n",
              "      <td>NaN</td>\n",
              "      <td>yvonnalynn</td>\n",
              "      <td>NaN</td>\n",
              "      <td>0</td>\n",
              "      <td>@VirginAmerica I didn't today... Must mean I n...</td>\n",
              "      <td>NaN</td>\n",
              "      <td>2/24/15 11:15</td>\n",
              "      <td>5.703010e+17</td>\n",
              "      <td>Lets Play</td>\n",
              "      <td>Central Time (US &amp; Canada)</td>\n",
              "    </tr>\n",
              "    <tr>\n",
              "      <th>681448158</th>\n",
              "      <td>False</td>\n",
              "      <td>finalized</td>\n",
              "      <td>3</td>\n",
              "      <td>2/25/15 3:05</td>\n",
              "      <td>negative</td>\n",
              "      <td>1.0000</td>\n",
              "      <td>Bad Flight</td>\n",
              "      <td>0.7033</td>\n",
              "      <td>Virgin America</td>\n",
              "      <td>NaN</td>\n",
              "      <td>jnardino</td>\n",
              "      <td>NaN</td>\n",
              "      <td>0</td>\n",
              "      <td>@VirginAmerica it's really aggressive to blast...</td>\n",
              "      <td>NaN</td>\n",
              "      <td>2/24/15 11:15</td>\n",
              "      <td>5.703010e+17</td>\n",
              "      <td>NaN</td>\n",
              "      <td>Pacific Time (US &amp; Canada)</td>\n",
              "    </tr>\n",
              "    <tr>\n",
              "      <th>681448159</th>\n",
              "      <td>False</td>\n",
              "      <td>finalized</td>\n",
              "      <td>3</td>\n",
              "      <td>2/25/15 5:50</td>\n",
              "      <td>negative</td>\n",
              "      <td>1.0000</td>\n",
              "      <td>Can't Tell</td>\n",
              "      <td>1.0000</td>\n",
              "      <td>Virgin America</td>\n",
              "      <td>NaN</td>\n",
              "      <td>jnardino</td>\n",
              "      <td>NaN</td>\n",
              "      <td>0</td>\n",
              "      <td>@VirginAmerica and it's a really big bad thing...</td>\n",
              "      <td>NaN</td>\n",
              "      <td>2/24/15 11:14</td>\n",
              "      <td>5.703010e+17</td>\n",
              "      <td>NaN</td>\n",
              "      <td>Pacific Time (US &amp; Canada)</td>\n",
              "    </tr>\n",
              "  </tbody>\n",
              "</table>\n",
              "</div>\n",
              "      <button class=\"colab-df-convert\" onclick=\"convertToInteractive('df-b3de7b1d-8530-45c5-abd9-72fca962e543')\"\n",
              "              title=\"Convert this dataframe to an interactive table.\"\n",
              "              style=\"display:none;\">\n",
              "        \n",
              "  <svg xmlns=\"http://www.w3.org/2000/svg\" height=\"24px\"viewBox=\"0 0 24 24\"\n",
              "       width=\"24px\">\n",
              "    <path d=\"M0 0h24v24H0V0z\" fill=\"none\"/>\n",
              "    <path d=\"M18.56 5.44l.94 2.06.94-2.06 2.06-.94-2.06-.94-.94-2.06-.94 2.06-2.06.94zm-11 1L8.5 8.5l.94-2.06 2.06-.94-2.06-.94L8.5 2.5l-.94 2.06-2.06.94zm10 10l.94 2.06.94-2.06 2.06-.94-2.06-.94-.94-2.06-.94 2.06-2.06.94z\"/><path d=\"M17.41 7.96l-1.37-1.37c-.4-.4-.92-.59-1.43-.59-.52 0-1.04.2-1.43.59L10.3 9.45l-7.72 7.72c-.78.78-.78 2.05 0 2.83L4 21.41c.39.39.9.59 1.41.59.51 0 1.02-.2 1.41-.59l7.78-7.78 2.81-2.81c.8-.78.8-2.07 0-2.86zM5.41 20L4 18.59l7.72-7.72 1.47 1.35L5.41 20z\"/>\n",
              "  </svg>\n",
              "      </button>\n",
              "      \n",
              "  <style>\n",
              "    .colab-df-container {\n",
              "      display:flex;\n",
              "      flex-wrap:wrap;\n",
              "      gap: 12px;\n",
              "    }\n",
              "\n",
              "    .colab-df-convert {\n",
              "      background-color: #E8F0FE;\n",
              "      border: none;\n",
              "      border-radius: 50%;\n",
              "      cursor: pointer;\n",
              "      display: none;\n",
              "      fill: #1967D2;\n",
              "      height: 32px;\n",
              "      padding: 0 0 0 0;\n",
              "      width: 32px;\n",
              "    }\n",
              "\n",
              "    .colab-df-convert:hover {\n",
              "      background-color: #E2EBFA;\n",
              "      box-shadow: 0px 1px 2px rgba(60, 64, 67, 0.3), 0px 1px 3px 1px rgba(60, 64, 67, 0.15);\n",
              "      fill: #174EA6;\n",
              "    }\n",
              "\n",
              "    [theme=dark] .colab-df-convert {\n",
              "      background-color: #3B4455;\n",
              "      fill: #D2E3FC;\n",
              "    }\n",
              "\n",
              "    [theme=dark] .colab-df-convert:hover {\n",
              "      background-color: #434B5C;\n",
              "      box-shadow: 0px 1px 3px 1px rgba(0, 0, 0, 0.15);\n",
              "      filter: drop-shadow(0px 1px 2px rgba(0, 0, 0, 0.3));\n",
              "      fill: #FFFFFF;\n",
              "    }\n",
              "  </style>\n",
              "\n",
              "      <script>\n",
              "        const buttonEl =\n",
              "          document.querySelector('#df-b3de7b1d-8530-45c5-abd9-72fca962e543 button.colab-df-convert');\n",
              "        buttonEl.style.display =\n",
              "          google.colab.kernel.accessAllowed ? 'block' : 'none';\n",
              "\n",
              "        async function convertToInteractive(key) {\n",
              "          const element = document.querySelector('#df-b3de7b1d-8530-45c5-abd9-72fca962e543');\n",
              "          const dataTable =\n",
              "            await google.colab.kernel.invokeFunction('convertToInteractive',\n",
              "                                                     [key], {});\n",
              "          if (!dataTable) return;\n",
              "\n",
              "          const docLinkHtml = 'Like what you see? Visit the ' +\n",
              "            '<a target=\"_blank\" href=https://colab.research.google.com/notebooks/data_table.ipynb>data table notebook</a>'\n",
              "            + ' to learn more about interactive tables.';\n",
              "          element.innerHTML = '';\n",
              "          dataTable['output_type'] = 'display_data';\n",
              "          await google.colab.output.renderOutput(dataTable, element);\n",
              "          const docLink = document.createElement('div');\n",
              "          docLink.innerHTML = docLinkHtml;\n",
              "          element.appendChild(docLink);\n",
              "        }\n",
              "      </script>\n",
              "    </div>\n",
              "  </div>\n",
              "  "
            ]
          },
          "metadata": {},
          "execution_count": 3
        }
      ],
      "source": [
        "import pandas as pd\n",
        "url = 'https://raw.githubusercontent.com/gbam-ds/FinalProject_IntroPython/main/Airline-Sentiment-2-w-AA.csv'\n",
        "airline = pd.read_csv(url,index_col=0,parse_dates=[0], encoding = \"ISO-8859-1\")\n",
        "airline.head() "
      ]
    },
    {
      "cell_type": "code",
      "execution_count": null,
      "id": "0ebb3344",
      "metadata": {
        "id": "0ebb3344",
        "outputId": "4131bbc1-f5aa-440f-8466-249f957022ba"
      },
      "outputs": [
        {
          "data": {
            "text/plain": [
              "(14640, 20)"
            ]
          },
          "execution_count": 2,
          "metadata": {},
          "output_type": "execute_result"
        }
      ],
      "source": [
        "#qtd de observações totais e únicas\n",
        "airline.shape"
      ]
    },
    {
      "cell_type": "code",
      "execution_count": null,
      "id": "acab22c2",
      "metadata": {
        "id": "acab22c2",
        "outputId": "aec43590-fa88-4267-c7dd-27268fa0fa23"
      },
      "outputs": [
        {
          "data": {
            "text/plain": [
              "_unit_id                          int64\n",
              "_golden                            bool\n",
              "_unit_state                      object\n",
              "_trusted_judgments                int64\n",
              "_last_judgment_at                object\n",
              "airline_sentiment                object\n",
              "airline_sentiment:confidence    float64\n",
              "negativereason                   object\n",
              "negativereason:confidence       float64\n",
              "airline                          object\n",
              "airline_sentiment_gold           object\n",
              "name                             object\n",
              "negativereason_gold              object\n",
              "retweet_count                     int64\n",
              "text                             object\n",
              "tweet_coord                      object\n",
              "tweet_created                    object\n",
              "tweet_id                        float64\n",
              "tweet_location                   object\n",
              "user_timezone                    object\n",
              "dtype: object"
            ]
          },
          "execution_count": 3,
          "metadata": {},
          "output_type": "execute_result"
        }
      ],
      "source": [
        "#conhecendo as variáveis\n",
        "airline.dtypes"
      ]
    },
    {
      "cell_type": "code",
      "execution_count": null,
      "id": "a69054b8",
      "metadata": {
        "id": "a69054b8",
        "outputId": "0114712d-fc2e-4a8e-8b7a-24f13230d9a9"
      },
      "outputs": [
        {
          "name": "stdout",
          "output_type": "stream",
          "text": [
            "negativereason_gold             14608\n",
            "airline_sentiment_gold          14600\n",
            "tweet_coord                     13621\n",
            "negativereason                   5462\n",
            "user_timezone                    4820\n",
            "tweet_location                   4733\n",
            "negativereason:confidence        4118\n",
            "_last_judgment_at                  56\n",
            "airline_sentiment                   0\n",
            "airline_sentiment:confidence        0\n",
            "airline                             0\n",
            "_golden                             0\n",
            "name                                0\n",
            "_trusted_judgments                  0\n",
            "retweet_count                       0\n",
            "text                                0\n",
            "_unit_state                         0\n",
            "tweet_created                       0\n",
            "tweet_id                            0\n",
            "_unit_id                            0\n",
            "dtype: int64\n"
          ]
        }
      ],
      "source": [
        "#nulo\n",
        "print(airline.isnull().sum().sort_values(ascending = False))"
      ]
    },
    {
      "cell_type": "code",
      "execution_count": null,
      "id": "609faaee",
      "metadata": {
        "scrolled": true,
        "id": "609faaee",
        "outputId": "b4766eba-874d-4a80-84aa-2c4fcdd228fa"
      },
      "outputs": [
        {
          "data": {
            "text/html": [
              "<div>\n",
              "<style scoped>\n",
              "    .dataframe tbody tr th:only-of-type {\n",
              "        vertical-align: middle;\n",
              "    }\n",
              "\n",
              "    .dataframe tbody tr th {\n",
              "        vertical-align: top;\n",
              "    }\n",
              "\n",
              "    .dataframe thead th {\n",
              "        text-align: right;\n",
              "    }\n",
              "</style>\n",
              "<table border=\"1\" class=\"dataframe\">\n",
              "  <thead>\n",
              "    <tr style=\"text-align: right;\">\n",
              "      <th></th>\n",
              "      <th>_unit_id</th>\n",
              "      <th>_golden</th>\n",
              "      <th>_unit_state</th>\n",
              "      <th>_trusted_judgments</th>\n",
              "      <th>_last_judgment_at</th>\n",
              "      <th>airline_sentiment</th>\n",
              "      <th>airline_sentiment:confidence</th>\n",
              "      <th>negativereason</th>\n",
              "      <th>negativereason:confidence</th>\n",
              "      <th>airline</th>\n",
              "      <th>airline_sentiment_gold</th>\n",
              "      <th>name</th>\n",
              "      <th>negativereason_gold</th>\n",
              "      <th>retweet_count</th>\n",
              "      <th>text</th>\n",
              "      <th>tweet_coord</th>\n",
              "      <th>tweet_created</th>\n",
              "      <th>tweet_id</th>\n",
              "      <th>tweet_location</th>\n",
              "      <th>user_timezone</th>\n",
              "    </tr>\n",
              "  </thead>\n",
              "  <tbody>\n",
              "  </tbody>\n",
              "</table>\n",
              "</div>"
            ],
            "text/plain": [
              "Empty DataFrame\n",
              "Columns: [_unit_id, _golden, _unit_state, _trusted_judgments, _last_judgment_at, airline_sentiment, airline_sentiment:confidence, negativereason, negativereason:confidence, airline, airline_sentiment_gold, name, negativereason_gold, retweet_count, text, tweet_coord, tweet_created, tweet_id, tweet_location, user_timezone]\n",
              "Index: []"
            ]
          },
          "execution_count": 9,
          "metadata": {},
          "output_type": "execute_result"
        }
      ],
      "source": [
        "#duplicado\n",
        "airline[airline.duplicated()]"
      ]
    },
    {
      "cell_type": "markdown",
      "source": [
        "Nao temos duplicados"
      ],
      "metadata": {
        "id": "2GhzrdcXj3wc"
      },
      "id": "2GhzrdcXj3wc"
    },
    {
      "cell_type": "code",
      "execution_count": null,
      "id": "03d0dd59",
      "metadata": {
        "scrolled": true,
        "id": "03d0dd59",
        "outputId": "8f2bd04f-5dda-4e10-9306-5619fdcbe784",
        "colab": {
          "base_uri": "https://localhost:8080/",
          "height": 350
        }
      },
      "outputs": [
        {
          "output_type": "display_data",
          "data": {
            "text/plain": [
              "<Figure size 432x288 with 1 Axes>"
            ],
            "image/png": "[encoded data removed]"
          },
          "metadata": {
            "needs_background": "light"
          }
        },
        {
          "output_type": "execute_result",
          "data": {
            "text/plain": [
              "(<matplotlib.axes._subplots.AxesSubplot at 0x7f9c4c0e1f90>,\n",
              " (array([0, 1, 2]), <a list of 3 Text major ticklabel objects>),\n",
              " Text(0.5, 1.0, 'Sentimentos em relação às linhas aéreas'),\n",
              " None)"
            ]
          },
          "metadata": {},
          "execution_count": 5
        }
      ],
      "source": [
        "import matplotlib.pyplot as plt\n",
        "\n",
        "cont = airline['airline_sentiment'].value_counts()\n",
        "cont.plot(kind='bar'), plt.xticks(rotation = 360), plt.title('Sentimentos em relação às linhas aéreas'), plt.show()"
      ]
    },
    {
      "cell_type": "code",
      "execution_count": null,
      "id": "571f9697",
      "metadata": {
        "scrolled": true,
        "id": "571f9697",
        "outputId": "15bd8b94-f111-4136-9353-0f8ea11f2c54"
      },
      "outputs": [
        {
          "data": {
            "image/png": "[encoded data removed]",
            "text/plain": [
              "<Figure size 640x480 with 1 Axes>"
            ]
          },
          "metadata": {},
          "output_type": "display_data"
        },
        {
          "data": {
            "text/plain": [
              "(Text(0.5, 1.0, 'Confiança em relação à analise de sentimentos'), None)"
            ]
          },
          "execution_count": 11,
          "metadata": {},
          "output_type": "execute_result"
        }
      ],
      "source": [
        "airline['airline_sentiment:confidence'].plot.hist(alpha=0.7);\n",
        "plt.title('Confiança em relação à analise de sentimentos'), plt.show()"
      ]
    },
    {
      "cell_type": "code",
      "execution_count": null,
      "id": "ae7d1863",
      "metadata": {
        "id": "ae7d1863",
        "outputId": "d37c610f-517d-4985-ef76-4627eefed00f",
        "colab": {
          "base_uri": "https://localhost:8080/",
          "height": 429
        }
      },
      "outputs": [
        {
          "output_type": "display_data",
          "data": {
            "text/plain": [
              "<Figure size 432x288 with 1 Axes>"
            ],
            "image/png": "[encoded data removed]"
          },
          "metadata": {
            "needs_background": "light"
          }
        },
        {
          "output_type": "execute_result",
          "data": {
            "text/plain": [
              "(Text(0.5, 1.0, 'Principais razões de queixa'), None)"
            ]
          },
          "metadata": {},
          "execution_count": 6
        }
      ],
      "source": [
        "cont = airline['negativereason'].value_counts()\n",
        "cont.plot(kind='bar')\n",
        "plt.title('Principais razões de queixa'), plt.show()\n"
      ]
    },
    {
      "cell_type": "code",
      "execution_count": null,
      "id": "b3f0d48b",
      "metadata": {
        "id": "b3f0d48b",
        "outputId": "8a7b9a67-af33-4784-b77e-9b47c2c7c902"
      },
      "outputs": [
        {
          "data": {
            "image/png": "[encoded data removed]",
            "text/plain": [
              "<Figure size 640x480 with 1 Axes>"
            ]
          },
          "metadata": {},
          "output_type": "display_data"
        },
        {
          "data": {
            "text/plain": [
              "(Text(0.5, 1.0, 'Top 5 time zones'), None)"
            ]
          },
          "execution_count": 10,
          "metadata": {},
          "output_type": "execute_result"
        }
      ],
      "source": [
        "cont = airline['user_timezone'].value_counts()[:5]\n",
        "cont.plot(kind='bar')\n",
        "plt.title('Top 5 time zones'), plt.show()"
      ]
    },
    {
      "cell_type": "markdown",
      "source": [
        "Testaremos agora a seguinte hipótese: \n",
        "\n",
        "Posts com teor negativo são, em geral, mais retweetados do que posts com teor positivo?\n",
        "\n",
        "Será verdade que indivíduos tendem a se mobilizar mais quando estão perdendo do que quando estão se beneficiando de algo?"
      ],
      "metadata": {
        "id": "mZHbBoz06h9S"
      },
      "id": "mZHbBoz06h9S"
    },
    {
      "cell_type": "code",
      "source": [
        "# Queremos analisar se tweets com teor negativo são mais compartilhados, em geral\n",
        "negative = airline[(airline.airline_sentiment == \"negative\")]\n",
        "y = statistics.mean(negative[\"retweet_count\"])\n",
        "print(\"A média de retweets para cada tweet negativo é:\", y)"
      ],
      "metadata": {
        "colab": {
          "base_uri": "https://localhost:8080/"
        },
        "outputId": "12b9a00b-ac5e-4e1b-83ef-4672e13f205a",
        "id": "mJqByDOB5Wyt"
      },
      "execution_count": 74,
      "outputs": [
        {
          "output_type": "stream",
          "name": "stdout",
          "text": [
            "A média de retweets para cada tweet negativo é: 0.09337546306384834\n"
          ]
        }
      ],
      "id": "mJqByDOB5Wyt"
    },
    {
      "cell_type": "code",
      "source": [
        "positive = airline[(airline.airline_sentiment == \"positive\")]\n",
        "x = statistics.mean(positive[\"retweet_count\"])\n",
        "print(\"A média de retweets para cada tweet positivo é:\", x)\n"
      ],
      "metadata": {
        "colab": {
          "base_uri": "https://localhost:8080/"
        },
        "outputId": "798e6cf5-21d2-4240-d094-4e10cb963427",
        "id": "qm7HU6nd5etJ"
      },
      "execution_count": 75,
      "outputs": [
        {
          "output_type": "stream",
          "name": "stdout",
          "text": [
            "A média de retweets para cada tweet positivo é: 0.06940330088870081\n"
          ]
        }
      ],
      "id": "qm7HU6nd5etJ"
    },
    {
      "cell_type": "code",
      "source": [
        "data = {'Tipo': ['Positivo', 'Negativo'],\n",
        "        'Média de Retweets': [x, y]}\n",
        "data = pd.DataFrame(data)\n",
        "data        "
      ],
      "metadata": {
        "colab": {
          "base_uri": "https://localhost:8080/",
          "height": 112
        },
        "outputId": "813de7b3-a570-40ad-c610-e261fa9c086c",
        "id": "ZnnRdnex5u01"
      },
      "execution_count": 76,
      "outputs": [
        {
          "output_type": "execute_result",
          "data": {
            "text/plain": [
              "       Tipo  Média de Retweets\n",
              "0  Positivo           0.069403\n",
              "1  Negativo           0.093375"
            ],
            "text/html": [
              "\n",
              "  <div id=\"df-2f2a1f18-9cad-4555-bf19-195644880f33\">\n",
              "    <div class=\"colab-df-container\">\n",
              "      <div>\n",
              "<style scoped>\n",
              "    .dataframe tbody tr th:only-of-type {\n",
              "        vertical-align: middle;\n",
              "    }\n",
              "\n",
              "    .dataframe tbody tr th {\n",
              "        vertical-align: top;\n",
              "    }\n",
              "\n",
              "    .dataframe thead th {\n",
              "        text-align: right;\n",
              "    }\n",
              "</style>\n",
              "<table border=\"1\" class=\"dataframe\">\n",
              "  <thead>\n",
              "    <tr style=\"text-align: right;\">\n",
              "      <th></th>\n",
              "      <th>Tipo</th>\n",
              "      <th>Média de Retweets</th>\n",
              "    </tr>\n",
              "  </thead>\n",
              "  <tbody>\n",
              "    <tr>\n",
              "      <th>0</th>\n",
              "      <td>Positivo</td>\n",
              "      <td>0.069403</td>\n",
              "    </tr>\n",
              "    <tr>\n",
              "      <th>1</th>\n",
              "      <td>Negativo</td>\n",
              "      <td>0.093375</td>\n",
              "    </tr>\n",
              "  </tbody>\n",
              "</table>\n",
              "</div>\n",
              "      <button class=\"colab-df-convert\" onclick=\"convertToInteractive('df-2f2a1f18-9cad-4555-bf19-195644880f33')\"\n",
              "              title=\"Convert this dataframe to an interactive table.\"\n",
              "              style=\"display:none;\">\n",
              "        \n",
              "  <svg xmlns=\"http://www.w3.org/2000/svg\" height=\"24px\"viewBox=\"0 0 24 24\"\n",
              "       width=\"24px\">\n",
              "    <path d=\"M0 0h24v24H0V0z\" fill=\"none\"/>\n",
              "    <path d=\"M18.56 5.44l.94 2.06.94-2.06 2.06-.94-2.06-.94-.94-2.06-.94 2.06-2.06.94zm-11 1L8.5 8.5l.94-2.06 2.06-.94-2.06-.94L8.5 2.5l-.94 2.06-2.06.94zm10 10l.94 2.06.94-2.06 2.06-.94-2.06-.94-.94-2.06-.94 2.06-2.06.94z\"/><path d=\"M17.41 7.96l-1.37-1.37c-.4-.4-.92-.59-1.43-.59-.52 0-1.04.2-1.43.59L10.3 9.45l-7.72 7.72c-.78.78-.78 2.05 0 2.83L4 21.41c.39.39.9.59 1.41.59.51 0 1.02-.2 1.41-.59l7.78-7.78 2.81-2.81c.8-.78.8-2.07 0-2.86zM5.41 20L4 18.59l7.72-7.72 1.47 1.35L5.41 20z\"/>\n",
              "  </svg>\n",
              "      </button>\n",
              "      \n",
              "  <style>\n",
              "    .colab-df-container {\n",
              "      display:flex;\n",
              "      flex-wrap:wrap;\n",
              "      gap: 12px;\n",
              "    }\n",
              "\n",
              "    .colab-df-convert {\n",
              "      background-color: #E8F0FE;\n",
              "      border: none;\n",
              "      border-radius: 50%;\n",
              "      cursor: pointer;\n",
              "      display: none;\n",
              "      fill: #1967D2;\n",
              "      height: 32px;\n",
              "      padding: 0 0 0 0;\n",
              "      width: 32px;\n",
              "    }\n",
              "\n",
              "    .colab-df-convert:hover {\n",
              "      background-color: #E2EBFA;\n",
              "      box-shadow: 0px 1px 2px rgba(60, 64, 67, 0.3), 0px 1px 3px 1px rgba(60, 64, 67, 0.15);\n",
              "      fill: #174EA6;\n",
              "    }\n",
              "\n",
              "    [theme=dark] .colab-df-convert {\n",
              "      background-color: #3B4455;\n",
              "      fill: #D2E3FC;\n",
              "    }\n",
              "\n",
              "    [theme=dark] .colab-df-convert:hover {\n",
              "      background-color: #434B5C;\n",
              "      box-shadow: 0px 1px 3px 1px rgba(0, 0, 0, 0.15);\n",
              "      filter: drop-shadow(0px 1px 2px rgba(0, 0, 0, 0.3));\n",
              "      fill: #FFFFFF;\n",
              "    }\n",
              "  </style>\n",
              "\n",
              "      <script>\n",
              "        const buttonEl =\n",
              "          document.querySelector('#df-2f2a1f18-9cad-4555-bf19-195644880f33 button.colab-df-convert');\n",
              "        buttonEl.style.display =\n",
              "          google.colab.kernel.accessAllowed ? 'block' : 'none';\n",
              "\n",
              "        async function convertToInteractive(key) {\n",
              "          const element = document.querySelector('#df-2f2a1f18-9cad-4555-bf19-195644880f33');\n",
              "          const dataTable =\n",
              "            await google.colab.kernel.invokeFunction('convertToInteractive',\n",
              "                                                     [key], {});\n",
              "          if (!dataTable) return;\n",
              "\n",
              "          const docLinkHtml = 'Like what you see? Visit the ' +\n",
              "            '<a target=\"_blank\" href=https://colab.research.google.com/notebooks/data_table.ipynb>data table notebook</a>'\n",
              "            + ' to learn more about interactive tables.';\n",
              "          element.innerHTML = '';\n",
              "          dataTable['output_type'] = 'display_data';\n",
              "          await google.colab.output.renderOutput(dataTable, element);\n",
              "          const docLink = document.createElement('div');\n",
              "          docLink.innerHTML = docLinkHtml;\n",
              "          element.appendChild(docLink);\n",
              "        }\n",
              "      </script>\n",
              "    </div>\n",
              "  </div>\n",
              "  "
            ]
          },
          "metadata": {},
          "execution_count": 76
        }
      ],
      "id": "ZnnRdnex5u01"
    },
    {
      "cell_type": "code",
      "source": [
        "data = {'Positivo':x, 'Negativo':y}\n",
        "retweets = list(data.keys())\n",
        "values = list(data.values())\n",
        "  \n",
        "fig = plt.figure(figsize = (10, 5))\n",
        " \n",
        "# creating the bar plot\n",
        "plt.bar(retweets, values, color ='steelblue',\n",
        "        width = 0.4)\n",
        " \n",
        "plt.xlabel(\"Sentimento do Tweet\")\n",
        "plt.ylabel(\"Média de Retweets\")\n",
        "plt.title(\"Média de compartilhamentos para cada tweet segundo a classificação de sentimentos\")\n",
        "plt.show()"
      ],
      "metadata": {
        "colab": {
          "base_uri": "https://localhost:8080/",
          "height": 350
        },
        "outputId": "ee249e62-eba1-40ea-9745-bd47430ad055",
        "id": "9noVDYus5-89"
      },
      "execution_count": 82,
      "outputs": [
        {
          "output_type": "display_data",
          "data": {
            "text/plain": [
              "<Figure size 720x360 with 1 Axes>"
            ],
            "image/png": "[encoded data removed]"
          },
          "metadata": {
            "needs_background": "light"
          }
        }
      ],
      "id": "9noVDYus5-89"
    },
    {
      "cell_type": "markdown",
      "source": [
        "A análise feita acima permite observar que os tweets classificados como \"negativos\" são, em média, mais compartilhados do que os tweets com teor de conteúdo considerado \"positivo\". Isso corrobora a hipótese segundo a qual usuários, em geral, possuem mais propensidade a se mobilizarem quando estão perdendo ou sendo prejudicados do que quando estão ganhando ou se beneficiando de algum fator."
      ],
      "metadata": {
        "id": "sYX-X16N73u0"
      },
      "id": "sYX-X16N73u0"
    },
    {
      "cell_type": "code",
      "execution_count": null,
      "id": "21cdb2b0",
      "metadata": {
        "id": "21cdb2b0"
      },
      "outputs": [],
      "source": [
        "from textblob import TextBlob,Word\n",
        "\n",
        "def polarity(x):\n",
        "  try:\n",
        "      return TextBlob(x).sentiment[0]\n",
        "  except:\n",
        "        return 9"
      ]
    },
    {
      "cell_type": "code",
      "source": [
        "sentiments = airline[\"text\"].apply(lambda x: polarity(x))\n",
        "sentiments.hist();\n",
        "plt.title('Análise de sentimentos (Base de Dados Completa)'), plt.show()\n",
        "import statistics\n",
        "x = statistics.mean(sentiments)\n",
        "print(\"A média da análise de sentimos é:\", x)"
      ],
      "metadata": {
        "colab": {
          "base_uri": "https://localhost:8080/",
          "height": 298
        },
        "id": "Gex9NMYygFRc",
        "outputId": "da29cd32-98df-4338-b0a9-c08afcb36794"
      },
      "id": "Gex9NMYygFRc",
      "execution_count": 61,
      "outputs": [
        {
          "output_type": "display_data",
          "data": {
            "text/plain": [
              "<Figure size 432x288 with 1 Axes>"
            ],
            "image/png": "[encoded data removed]"
          },
          "metadata": {
            "needs_background": "light"
          }
        },
        {
          "output_type": "stream",
          "name": "stdout",
          "text": [
            "A média da análise de sentimos é: 0.048857191173908146\n"
          ]
        }
      ]
    },
    {
      "cell_type": "code",
      "source": [
        "sentiments = airline[\"text\"].apply(lambda x: polarity(x))\n",
        "sentiments.hist(bins=3);"
      ],
      "metadata": {
        "colab": {
          "base_uri": "https://localhost:8080/",
          "height": 265
        },
        "id": "amp7gmXzkYBC",
        "outputId": "7ccae9bc-3210-4a20-ab99-9c071f49a5e7"
      },
      "id": "amp7gmXzkYBC",
      "execution_count": 40,
      "outputs": [
        {
          "output_type": "display_data",
          "data": {
            "text/plain": [
              "<Figure size 432x288 with 1 Axes>"
            ],
            "image/png": "[encoded data removed]"
          },
          "metadata": {
            "needs_background": "light"
          }
        }
      ]
    },
    {
      "cell_type": "code",
      "source": [
        "import matplotlib.pyplot as plt"
      ],
      "metadata": {
        "id": "V7mhumnAyHlE"
      },
      "id": "V7mhumnAyHlE",
      "execution_count": null,
      "outputs": []
    },
    {
      "cell_type": "markdown",
      "source": [
        "Resultados diferentes: mais neutros, mais positivos. Intuitivamente, o encontrado anterior faz mais sentido..."
      ],
      "metadata": {
        "id": "qiq2Ol2Fkngj"
      },
      "id": "qiq2Ol2Fkngj"
    },
    {
      "cell_type": "code",
      "source": [
        "# testando a robustez e eficiência do algoritmo de análise de sentimentos\n",
        "\n",
        "# filtrando somente os tweets originalmente considerados positivos\n",
        "positive = airline[(airline.airline_sentiment == \"positive\")]\n",
        "\n",
        "# aplicando a análise de sentimentos\n",
        "sentiments = positive[\"text\"].apply(lambda x: polarity(x))\n",
        "sentiments.hist();\n",
        "plt.title('Análise de sentimentos positivos'), plt.show()\n",
        "\n",
        "import statistics\n",
        "x = statistics.mean(sentiments)\n",
        "print(\"A média da análise de sentimentos positivos é:\", x)"
      ],
      "metadata": {
        "colab": {
          "base_uri": "https://localhost:8080/",
          "height": 298
        },
        "id": "zaqAh0SNv0oV",
        "outputId": "486097f9-0cba-4869-b10c-d7304f526a0e"
      },
      "id": "zaqAh0SNv0oV",
      "execution_count": 60,
      "outputs": [
        {
          "output_type": "display_data",
          "data": {
            "text/plain": [
              "<Figure size 432x288 with 1 Axes>"
            ],
            "image/png": "[encoded data removed]"
          },
          "metadata": {
            "needs_background": "light"
          }
        },
        {
          "output_type": "stream",
          "name": "stdout",
          "text": [
            "A média da análise de sentimentos positivos é: 0.3314143141299683\n"
          ]
        }
      ]
    },
    {
      "cell_type": "markdown",
      "source": [
        "A maior parte da distribuição está concentrada na direita.\n",
        "\n",
        "O gráfico acima, portanto, permite identificar que a maior parte dos tweets classificados originamente como positivos também tende a ser considerada positiva pela análise de sentimentos.\n",
        "\n"
      ],
      "metadata": {
        "id": "4zlx97z-4Eqv"
      },
      "id": "4zlx97z-4Eqv"
    },
    {
      "cell_type": "code",
      "source": [
        "# testando a robustez e eficiência do algoritmo\n",
        "\n",
        "# filtrando somente os tweets originalmente considerados negativos\n",
        "negative = airline[(airline.airline_sentiment == \"negative\")]\n",
        "\n",
        "# aplicando a análise de sentimentos\n",
        "sentiments = negative[\"text\"].apply(lambda x: polarity(x))\n",
        "sentiments.hist();\n",
        "plt.title('Análise de sentimentos negativos'), plt.show()\n",
        "import statistics\n",
        "x = statistics.mean(sentiments)\n",
        "print(\"A média da análise de sentimentos negativos é:\", x)\n",
        "\n",
        "# eficiência aparentemente menor se comparada aos sentimentos positivos"
      ],
      "metadata": {
        "colab": {
          "base_uri": "https://localhost:8080/",
          "height": 298
        },
        "id": "BysDQrRCyx_A",
        "outputId": "7a0a8d7a-43cd-4f73-d070-11575f2ee7dc"
      },
      "id": "BysDQrRCyx_A",
      "execution_count": 62,
      "outputs": [
        {
          "output_type": "display_data",
          "data": {
            "text/plain": [
              "<Figure size 432x288 with 1 Axes>"
            ],
            "image/png": "[encoded data removed]"
          },
          "metadata": {
            "needs_background": "light"
          }
        },
        {
          "output_type": "stream",
          "name": "stdout",
          "text": [
            "A média da análise de sentimentos negativos é: -0.03572761606203103\n"
          ]
        }
      ]
    },
    {
      "cell_type": "markdown",
      "source": [
        "A média aritmética para os tweets negativos é menor do que zero. Isso indica que, na média, tweets originalmente classificados como negativos também foram considerados negativos pela nossa análise de sentimentos.\n",
        "\n",
        "No entanto, o histograma acima evidencia que alguns valores estão acima de 0.5 e portanto seriam considerados \"positivos\" pela nossa análise de sentimentos, o que contradiz a classificação original (\"negativa\")."
      ],
      "metadata": {
        "id": "_iuBwdUg7cvG"
      },
      "id": "_iuBwdUg7cvG"
    },
    {
      "cell_type": "markdown",
      "source": [
        "Para tentar entender por que isso aconteceu, primeiro vamos filtrar os tweets originalmente classificados como positivos mas que tiveram valor negativo em nossa análise de sentimentos.\n",
        "\n",
        "De forma análoga, faremos uma segunda análise na qual filtraremos os tweets originalmente classificados como negativos mas que tiveram valor positivo em nossa análise de sentimentos."
      ],
      "metadata": {
        "id": "SABewbzs9wAc"
      },
      "id": "SABewbzs9wAc"
    },
    {
      "cell_type": "code",
      "source": [
        "# filtrando somente tweets classificados como positivos\n",
        "positive = airline[(airline.airline_sentiment == \"positive\")]\n",
        "\n",
        "# efetuando a análise de sentimentos\n",
        "sentiments = positive[\"text\"].apply(lambda x: polarity(x))\n",
        "\n",
        "# concatenando a análise de sentimentos com a base de dados original\n",
        "df = pd.merge(positive, sentiments, on = '_unit_id')\n",
        "\n",
        "# renomeando a coluna de sentimentos e texto para evitar confusão\n",
        "df = df.rename(columns={'text_y': 'sentiment', 'text_x': 'text'})\n",
        "\n",
        "# filtrando tweets com análise de sentimentos negativa\n",
        "filtered = df[df['sentiment'] < 0]\n",
        "data = filtered[[\"text\", \"airline_sentiment\", \"sentiment\"]]\n",
        "data"
      ],
      "metadata": {
        "colab": {
          "base_uri": "https://localhost:8080/",
          "height": 455
        },
        "id": "AVXJd2xLOBt8",
        "outputId": "3cd2320a-1710-4262-940a-7f6d69052c8b"
      },
      "id": "AVXJd2xLOBt8",
      "execution_count": 64,
      "outputs": [
        {
          "output_type": "execute_result",
          "data": {
            "text/plain": [
              "                                                        text  \\\n",
              "_unit_id                                                       \n",
              "681448404  @VirginAmerica come back to #PHL already. We n...   \n",
              "681448621  @VirginAmerica twitter team. you guys killed i...   \n",
              "681448793  @VirginAmerica I mean. Probably inappropriate ...   \n",
              "681448851  @VirginAmerica of course! I work for @VirginAt...   \n",
              "681448921  @VirginAmerica , am I dreaming? Did you really...   \n",
              "...                                                      ...   \n",
              "681678730  @AmericanAir Eventually the call got through. ...   \n",
              "681679120  @AmericanAir Shout-out to all the ground crews...   \n",
              "681679495  @AmericanAir flights have been on time Late Fl...   \n",
              "681679688  @AmericanAir  Mad love http://t.co/4ojrSDWPkK ...   \n",
              "681679749  @AmericanAir thank you for quick responses.   ...   \n",
              "\n",
              "          airline_sentiment  sentiment  \n",
              "_unit_id                                \n",
              "681448404          positive  -0.533333  \n",
              "681448621          positive  -0.250000  \n",
              "681448793          positive  -0.390625  \n",
              "681448851          positive  -0.250000  \n",
              "681448921          positive  -0.028125  \n",
              "...                     ...        ...  \n",
              "681678730          positive  -0.312500  \n",
              "681679120          positive  -0.172222  \n",
              "681679495          positive  -0.375000  \n",
              "681679688          positive  -0.062500  \n",
              "681679749          positive  -0.054167  \n",
              "\n",
              "[104 rows x 3 columns]"
            ],
            "text/html": [
              "\n",
              "  <div id=\"df-fa26dc80-4d2c-4961-b78e-d6dda1cd6a9b\">\n",
              "    <div class=\"colab-df-container\">\n",
              "      <div>\n",
              "<style scoped>\n",
              "    .dataframe tbody tr th:only-of-type {\n",
              "        vertical-align: middle;\n",
              "    }\n",
              "\n",
              "    .dataframe tbody tr th {\n",
              "        vertical-align: top;\n",
              "    }\n",
              "\n",
              "    .dataframe thead th {\n",
              "        text-align: right;\n",
              "    }\n",
              "</style>\n",
              "<table border=\"1\" class=\"dataframe\">\n",
              "  <thead>\n",
              "    <tr style=\"text-align: right;\">\n",
              "      <th></th>\n",
              "      <th>text</th>\n",
              "      <th>airline_sentiment</th>\n",
              "      <th>sentiment</th>\n",
              "    </tr>\n",
              "    <tr>\n",
              "      <th>_unit_id</th>\n",
              "      <th></th>\n",
              "      <th></th>\n",
              "      <th></th>\n",
              "    </tr>\n",
              "  </thead>\n",
              "  <tbody>\n",
              "    <tr>\n",
              "      <th>681448404</th>\n",
              "      <td>@VirginAmerica come back to #PHL already. We n...</td>\n",
              "      <td>positive</td>\n",
              "      <td>-0.533333</td>\n",
              "    </tr>\n",
              "    <tr>\n",
              "      <th>681448621</th>\n",
              "      <td>@VirginAmerica twitter team. you guys killed i...</td>\n",
              "      <td>positive</td>\n",
              "      <td>-0.250000</td>\n",
              "    </tr>\n",
              "    <tr>\n",
              "      <th>681448793</th>\n",
              "      <td>@VirginAmerica I mean. Probably inappropriate ...</td>\n",
              "      <td>positive</td>\n",
              "      <td>-0.390625</td>\n",
              "    </tr>\n",
              "    <tr>\n",
              "      <th>681448851</th>\n",
              "      <td>@VirginAmerica of course! I work for @VirginAt...</td>\n",
              "      <td>positive</td>\n",
              "      <td>-0.250000</td>\n",
              "    </tr>\n",
              "    <tr>\n",
              "      <th>681448921</th>\n",
              "      <td>@VirginAmerica , am I dreaming? Did you really...</td>\n",
              "      <td>positive</td>\n",
              "      <td>-0.028125</td>\n",
              "    </tr>\n",
              "    <tr>\n",
              "      <th>...</th>\n",
              "      <td>...</td>\n",
              "      <td>...</td>\n",
              "      <td>...</td>\n",
              "    </tr>\n",
              "    <tr>\n",
              "      <th>681678730</th>\n",
              "      <td>@AmericanAir Eventually the call got through. ...</td>\n",
              "      <td>positive</td>\n",
              "      <td>-0.312500</td>\n",
              "    </tr>\n",
              "    <tr>\n",
              "      <th>681679120</th>\n",
              "      <td>@AmericanAir Shout-out to all the ground crews...</td>\n",
              "      <td>positive</td>\n",
              "      <td>-0.172222</td>\n",
              "    </tr>\n",
              "    <tr>\n",
              "      <th>681679495</th>\n",
              "      <td>@AmericanAir flights have been on time Late Fl...</td>\n",
              "      <td>positive</td>\n",
              "      <td>-0.375000</td>\n",
              "    </tr>\n",
              "    <tr>\n",
              "      <th>681679688</th>\n",
              "      <td>@AmericanAir  Mad love http://t.co/4ojrSDWPkK ...</td>\n",
              "      <td>positive</td>\n",
              "      <td>-0.062500</td>\n",
              "    </tr>\n",
              "    <tr>\n",
              "      <th>681679749</th>\n",
              "      <td>@AmericanAir thank you for quick responses.   ...</td>\n",
              "      <td>positive</td>\n",
              "      <td>-0.054167</td>\n",
              "    </tr>\n",
              "  </tbody>\n",
              "</table>\n",
              "<p>104 rows × 3 columns</p>\n",
              "</div>\n",
              "      <button class=\"colab-df-convert\" onclick=\"convertToInteractive('df-fa26dc80-4d2c-4961-b78e-d6dda1cd6a9b')\"\n",
              "              title=\"Convert this dataframe to an interactive table.\"\n",
              "              style=\"display:none;\">\n",
              "        \n",
              "  <svg xmlns=\"http://www.w3.org/2000/svg\" height=\"24px\"viewBox=\"0 0 24 24\"\n",
              "       width=\"24px\">\n",
              "    <path d=\"M0 0h24v24H0V0z\" fill=\"none\"/>\n",
              "    <path d=\"M18.56 5.44l.94 2.06.94-2.06 2.06-.94-2.06-.94-.94-2.06-.94 2.06-2.06.94zm-11 1L8.5 8.5l.94-2.06 2.06-.94-2.06-.94L8.5 2.5l-.94 2.06-2.06.94zm10 10l.94 2.06.94-2.06 2.06-.94-2.06-.94-.94-2.06-.94 2.06-2.06.94z\"/><path d=\"M17.41 7.96l-1.37-1.37c-.4-.4-.92-.59-1.43-.59-.52 0-1.04.2-1.43.59L10.3 9.45l-7.72 7.72c-.78.78-.78 2.05 0 2.83L4 21.41c.39.39.9.59 1.41.59.51 0 1.02-.2 1.41-.59l7.78-7.78 2.81-2.81c.8-.78.8-2.07 0-2.86zM5.41 20L4 18.59l7.72-7.72 1.47 1.35L5.41 20z\"/>\n",
              "  </svg>\n",
              "      </button>\n",
              "      \n",
              "  <style>\n",
              "    .colab-df-container {\n",
              "      display:flex;\n",
              "      flex-wrap:wrap;\n",
              "      gap: 12px;\n",
              "    }\n",
              "\n",
              "    .colab-df-convert {\n",
              "      background-color: #E8F0FE;\n",
              "      border: none;\n",
              "      border-radius: 50%;\n",
              "      cursor: pointer;\n",
              "      display: none;\n",
              "      fill: #1967D2;\n",
              "      height: 32px;\n",
              "      padding: 0 0 0 0;\n",
              "      width: 32px;\n",
              "    }\n",
              "\n",
              "    .colab-df-convert:hover {\n",
              "      background-color: #E2EBFA;\n",
              "      box-shadow: 0px 1px 2px rgba(60, 64, 67, 0.3), 0px 1px 3px 1px rgba(60, 64, 67, 0.15);\n",
              "      fill: #174EA6;\n",
              "    }\n",
              "\n",
              "    [theme=dark] .colab-df-convert {\n",
              "      background-color: #3B4455;\n",
              "      fill: #D2E3FC;\n",
              "    }\n",
              "\n",
              "    [theme=dark] .colab-df-convert:hover {\n",
              "      background-color: #434B5C;\n",
              "      box-shadow: 0px 1px 3px 1px rgba(0, 0, 0, 0.15);\n",
              "      filter: drop-shadow(0px 1px 2px rgba(0, 0, 0, 0.3));\n",
              "      fill: #FFFFFF;\n",
              "    }\n",
              "  </style>\n",
              "\n",
              "      <script>\n",
              "        const buttonEl =\n",
              "          document.querySelector('#df-fa26dc80-4d2c-4961-b78e-d6dda1cd6a9b button.colab-df-convert');\n",
              "        buttonEl.style.display =\n",
              "          google.colab.kernel.accessAllowed ? 'block' : 'none';\n",
              "\n",
              "        async function convertToInteractive(key) {\n",
              "          const element = document.querySelector('#df-fa26dc80-4d2c-4961-b78e-d6dda1cd6a9b');\n",
              "          const dataTable =\n",
              "            await google.colab.kernel.invokeFunction('convertToInteractive',\n",
              "                                                     [key], {});\n",
              "          if (!dataTable) return;\n",
              "\n",
              "          const docLinkHtml = 'Like what you see? Visit the ' +\n",
              "            '<a target=\"_blank\" href=https://colab.research.google.com/notebooks/data_table.ipynb>data table notebook</a>'\n",
              "            + ' to learn more about interactive tables.';\n",
              "          element.innerHTML = '';\n",
              "          dataTable['output_type'] = 'display_data';\n",
              "          await google.colab.output.renderOutput(dataTable, element);\n",
              "          const docLink = document.createElement('div');\n",
              "          docLink.innerHTML = docLinkHtml;\n",
              "          element.appendChild(docLink);\n",
              "        }\n",
              "      </script>\n",
              "    </div>\n",
              "  </div>\n",
              "  "
            ]
          },
          "metadata": {},
          "execution_count": 64
        }
      ]
    },
    {
      "cell_type": "markdown",
      "source": [
        "\n",
        "Repare que no tweet \"ID 681448621\" (segunda linha da tabela acima), o usuário escreveu a palavra \"killed\", o que gerou uma ambiguidade.\n",
        "\n",
        "Essa palavra pode ser interpretada de diferentes modos a depender do contexto.\n",
        "\n",
        "Que pode ser positivo, exemplo: \"you guys killed it!\";(\"vocês arrasaram!\")\n",
        "\n",
        "Ou negativo. Exemplo: \"You killed my plans!\"; (\"vocês destruíram meus planos!\")\n",
        "\n",
        "Provavelmente, esta ambiguidade semântica causou divergências entre a classificação original da base e aquela feita pelo algoritmo."
      ],
      "metadata": {
        "id": "SbU1M2YN_NvJ"
      },
      "id": "SbU1M2YN_NvJ"
    },
    {
      "cell_type": "markdown",
      "source": [
        "Além disso, note que o tweet ID 681679688 (penúltima linha da tabela acima) apresenta a junção de palavras positivas com negativas (\"mad\" - que significa \"raivoso, enfurecido\", com a palavra \"love\", que é \"amor\" em português.)\n",
        "\n",
        "Ao que tudo indica, a mescla entre palavras de conotação positiva e negativa em uma mesma sentença (neste caso, \"mad love\"), provavelmente causou a divergência entre a classificação original do sentimento e a análise feita pelo algoritmo."
      ],
      "metadata": {
        "id": "73EnyesiAlZK"
      },
      "id": "73EnyesiAlZK"
    },
    {
      "cell_type": "code",
      "source": [
        "# filtrando os tweets classificados como negativos\n",
        "negative = airline[(airline.airline_sentiment == \"negative\")]\n",
        "\n",
        "# aplicando a análise de sentimentos\n",
        "sentiments = negative[\"text\"].apply(lambda x: polarity(x))\n",
        "\n",
        "# concatenando a análise de sentimentos com a base original\n",
        "df = pd.merge(negative, sentiments, on = '_unit_id')\n",
        "\n",
        "# renomeando a coluna de sentimentos e texto para evitar confusão\n",
        "df = df.rename(columns={'text_y': 'sentiment', 'text_x': 'text'})\n",
        "\n",
        "# agora vamos ver quais tweets foram originalmente classificados como negativos mas nosso algoritmo considera-os como positivos\n",
        "\n",
        "# Aqui, partimos de pressuposto que os tweets maiores ou iguais a 0.5 são positivos\n",
        "\n",
        "# filtrando os tweets com análise de sentimentos maior do que 0.5\n",
        "filt = df[df['sentiment'] > 0.5]\n",
        "data = filt[[\"text\", \"airline_sentiment\", \"sentiment\"]]\n",
        "data"
      ],
      "metadata": {
        "colab": {
          "base_uri": "https://localhost:8080/",
          "height": 455
        },
        "id": "QaUOOF8oOLgE",
        "outputId": "4e41ef3e-5ae3-444c-c3ca-ef79d2a6c183"
      },
      "id": "QaUOOF8oOLgE",
      "execution_count": 65,
      "outputs": [
        {
          "output_type": "execute_result",
          "data": {
            "text/plain": [
              "                                                        text  \\\n",
              "_unit_id                                                       \n",
              "681448387  @VirginAmerica called your service line and wa...   \n",
              "681448774  @VirginAmerica husband and I ordered three dri...   \n",
              "681449024  @United the internet is a great thing.  I am e...   \n",
              "681449085  @united I just sent an email to Customer Care,...   \n",
              "681449259  @united yes, but still now answers. Many have ...   \n",
              "...                                                      ...   \n",
              "681679714  @AmericanAir fix the engine of flight AA3031so...   \n",
              "681679722  @AmericanAir All flts to JFK Cancelled Flightl...   \n",
              "681679725  @AmericanAir i was also told by agents my issu...   \n",
              "681679736  @AmericanAir I have never on all my trips on a...   \n",
              "681679746  @AmericanAir IÛªll play it by ear. I know tha...   \n",
              "\n",
              "          airline_sentiment  sentiment  \n",
              "_unit_id                                \n",
              "681448387          negative   1.000000  \n",
              "681448774          negative   1.000000  \n",
              "681449024          negative   0.800000  \n",
              "681449085          negative   0.781250  \n",
              "681449259          negative   0.976562  \n",
              "...                     ...        ...  \n",
              "681679714          negative   0.800000  \n",
              "681679722          negative   1.000000  \n",
              "681679725          negative   0.813802  \n",
              "681679736          negative   1.000000  \n",
              "681679746          negative   1.000000  \n",
              "\n",
              "[288 rows x 3 columns]"
            ],
            "text/html": [
              "\n",
              "  <div id=\"df-bfe15854-774f-41e5-ad35-219d9bec90f3\">\n",
              "    <div class=\"colab-df-container\">\n",
              "      <div>\n",
              "<style scoped>\n",
              "    .dataframe tbody tr th:only-of-type {\n",
              "        vertical-align: middle;\n",
              "    }\n",
              "\n",
              "    .dataframe tbody tr th {\n",
              "        vertical-align: top;\n",
              "    }\n",
              "\n",
              "    .dataframe thead th {\n",
              "        text-align: right;\n",
              "    }\n",
              "</style>\n",
              "<table border=\"1\" class=\"dataframe\">\n",
              "  <thead>\n",
              "    <tr style=\"text-align: right;\">\n",
              "      <th></th>\n",
              "      <th>text</th>\n",
              "      <th>airline_sentiment</th>\n",
              "      <th>sentiment</th>\n",
              "    </tr>\n",
              "    <tr>\n",
              "      <th>_unit_id</th>\n",
              "      <th></th>\n",
              "      <th></th>\n",
              "      <th></th>\n",
              "    </tr>\n",
              "  </thead>\n",
              "  <tbody>\n",
              "    <tr>\n",
              "      <th>681448387</th>\n",
              "      <td>@VirginAmerica called your service line and wa...</td>\n",
              "      <td>negative</td>\n",
              "      <td>1.000000</td>\n",
              "    </tr>\n",
              "    <tr>\n",
              "      <th>681448774</th>\n",
              "      <td>@VirginAmerica husband and I ordered three dri...</td>\n",
              "      <td>negative</td>\n",
              "      <td>1.000000</td>\n",
              "    </tr>\n",
              "    <tr>\n",
              "      <th>681449024</th>\n",
              "      <td>@United the internet is a great thing.  I am e...</td>\n",
              "      <td>negative</td>\n",
              "      <td>0.800000</td>\n",
              "    </tr>\n",
              "    <tr>\n",
              "      <th>681449085</th>\n",
              "      <td>@united I just sent an email to Customer Care,...</td>\n",
              "      <td>negative</td>\n",
              "      <td>0.781250</td>\n",
              "    </tr>\n",
              "    <tr>\n",
              "      <th>681449259</th>\n",
              "      <td>@united yes, but still now answers. Many have ...</td>\n",
              "      <td>negative</td>\n",
              "      <td>0.976562</td>\n",
              "    </tr>\n",
              "    <tr>\n",
              "      <th>...</th>\n",
              "      <td>...</td>\n",
              "      <td>...</td>\n",
              "      <td>...</td>\n",
              "    </tr>\n",
              "    <tr>\n",
              "      <th>681679714</th>\n",
              "      <td>@AmericanAir fix the engine of flight AA3031so...</td>\n",
              "      <td>negative</td>\n",
              "      <td>0.800000</td>\n",
              "    </tr>\n",
              "    <tr>\n",
              "      <th>681679722</th>\n",
              "      <td>@AmericanAir All flts to JFK Cancelled Flightl...</td>\n",
              "      <td>negative</td>\n",
              "      <td>1.000000</td>\n",
              "    </tr>\n",
              "    <tr>\n",
              "      <th>681679725</th>\n",
              "      <td>@AmericanAir i was also told by agents my issu...</td>\n",
              "      <td>negative</td>\n",
              "      <td>0.813802</td>\n",
              "    </tr>\n",
              "    <tr>\n",
              "      <th>681679736</th>\n",
              "      <td>@AmericanAir I have never on all my trips on a...</td>\n",
              "      <td>negative</td>\n",
              "      <td>1.000000</td>\n",
              "    </tr>\n",
              "    <tr>\n",
              "      <th>681679746</th>\n",
              "      <td>@AmericanAir IÛªll play it by ear. I know tha...</td>\n",
              "      <td>negative</td>\n",
              "      <td>1.000000</td>\n",
              "    </tr>\n",
              "  </tbody>\n",
              "</table>\n",
              "<p>288 rows × 3 columns</p>\n",
              "</div>\n",
              "      <button class=\"colab-df-convert\" onclick=\"convertToInteractive('df-bfe15854-774f-41e5-ad35-219d9bec90f3')\"\n",
              "              title=\"Convert this dataframe to an interactive table.\"\n",
              "              style=\"display:none;\">\n",
              "        \n",
              "  <svg xmlns=\"http://www.w3.org/2000/svg\" height=\"24px\"viewBox=\"0 0 24 24\"\n",
              "       width=\"24px\">\n",
              "    <path d=\"M0 0h24v24H0V0z\" fill=\"none\"/>\n",
              "    <path d=\"M18.56 5.44l.94 2.06.94-2.06 2.06-.94-2.06-.94-.94-2.06-.94 2.06-2.06.94zm-11 1L8.5 8.5l.94-2.06 2.06-.94-2.06-.94L8.5 2.5l-.94 2.06-2.06.94zm10 10l.94 2.06.94-2.06 2.06-.94-2.06-.94-.94-2.06-.94 2.06-2.06.94z\"/><path d=\"M17.41 7.96l-1.37-1.37c-.4-.4-.92-.59-1.43-.59-.52 0-1.04.2-1.43.59L10.3 9.45l-7.72 7.72c-.78.78-.78 2.05 0 2.83L4 21.41c.39.39.9.59 1.41.59.51 0 1.02-.2 1.41-.59l7.78-7.78 2.81-2.81c.8-.78.8-2.07 0-2.86zM5.41 20L4 18.59l7.72-7.72 1.47 1.35L5.41 20z\"/>\n",
              "  </svg>\n",
              "      </button>\n",
              "      \n",
              "  <style>\n",
              "    .colab-df-container {\n",
              "      display:flex;\n",
              "      flex-wrap:wrap;\n",
              "      gap: 12px;\n",
              "    }\n",
              "\n",
              "    .colab-df-convert {\n",
              "      background-color: #E8F0FE;\n",
              "      border: none;\n",
              "      border-radius: 50%;\n",
              "      cursor: pointer;\n",
              "      display: none;\n",
              "      fill: #1967D2;\n",
              "      height: 32px;\n",
              "      padding: 0 0 0 0;\n",
              "      width: 32px;\n",
              "    }\n",
              "\n",
              "    .colab-df-convert:hover {\n",
              "      background-color: #E2EBFA;\n",
              "      box-shadow: 0px 1px 2px rgba(60, 64, 67, 0.3), 0px 1px 3px 1px rgba(60, 64, 67, 0.15);\n",
              "      fill: #174EA6;\n",
              "    }\n",
              "\n",
              "    [theme=dark] .colab-df-convert {\n",
              "      background-color: #3B4455;\n",
              "      fill: #D2E3FC;\n",
              "    }\n",
              "\n",
              "    [theme=dark] .colab-df-convert:hover {\n",
              "      background-color: #434B5C;\n",
              "      box-shadow: 0px 1px 3px 1px rgba(0, 0, 0, 0.15);\n",
              "      filter: drop-shadow(0px 1px 2px rgba(0, 0, 0, 0.3));\n",
              "      fill: #FFFFFF;\n",
              "    }\n",
              "  </style>\n",
              "\n",
              "      <script>\n",
              "        const buttonEl =\n",
              "          document.querySelector('#df-bfe15854-774f-41e5-ad35-219d9bec90f3 button.colab-df-convert');\n",
              "        buttonEl.style.display =\n",
              "          google.colab.kernel.accessAllowed ? 'block' : 'none';\n",
              "\n",
              "        async function convertToInteractive(key) {\n",
              "          const element = document.querySelector('#df-bfe15854-774f-41e5-ad35-219d9bec90f3');\n",
              "          const dataTable =\n",
              "            await google.colab.kernel.invokeFunction('convertToInteractive',\n",
              "                                                     [key], {});\n",
              "          if (!dataTable) return;\n",
              "\n",
              "          const docLinkHtml = 'Like what you see? Visit the ' +\n",
              "            '<a target=\"_blank\" href=https://colab.research.google.com/notebooks/data_table.ipynb>data table notebook</a>'\n",
              "            + ' to learn more about interactive tables.';\n",
              "          element.innerHTML = '';\n",
              "          dataTable['output_type'] = 'display_data';\n",
              "          await google.colab.output.renderOutput(dataTable, element);\n",
              "          const docLink = document.createElement('div');\n",
              "          docLink.innerHTML = docLinkHtml;\n",
              "          element.appendChild(docLink);\n",
              "        }\n",
              "      </script>\n",
              "    </div>\n",
              "  </div>\n",
              "  "
            ]
          },
          "metadata": {},
          "execution_count": 65
        }
      ]
    },
    {
      "cell_type": "markdown",
      "source": [
        "Repare que o tweet de ID 681449259 (quinta linha da tabela acima) possui a seguinte sentença: \" yes, but still now answers.\"\n",
        "\n",
        "Aparentemente, o próprio usuário cometeu um typo ao publicar o seu tweet. O usuário, nesse sentido, acabou escrevendo \"now\" ao invés de \"no answers\" (\"sem respostas\", em português), o que sinaliza uma reclamação direcionada à companhia aérea.\n",
        "\n",
        "Ao que tudo indica, isso fez com que o algoritmo retornasse um valor positivo, ainda que a frase possua, originalmente, uma conotação negativa.\n",
        "\n",
        "Portanto, podemos dizer que eventuais typos tendem a interferir na eficiência da análise de sentimentos."
      ],
      "metadata": {
        "id": "vwGDSvw5CdgZ"
      },
      "id": "vwGDSvw5CdgZ"
    }
  ],
  "metadata": {
    "hide_input": false,
    "kernelspec": {
      "display_name": "Python 3",
      "language": "python",
      "name": "python3"
    },
    "language_info": {
      "codemirror_mode": {
        "name": "ipython",
        "version": 3
      },
      "file_extension": ".py",
      "mimetype": "text/x-python",
      "name": "python",
      "nbconvert_exporter": "python",
      "pygments_lexer": "ipython3",
      "version": "3.8.8"
    },
    "toc": {
      "base_numbering": 1,
      "nav_menu": {},
      "number_sections": true,
      "sideBar": true,
      "skip_h1_title": false,
      "title_cell": "Table of Contents",
      "title_sidebar": "Contents",
      "toc_cell": false,
      "toc_position": {},
      "toc_section_display": true,
      "toc_window_display": false
    },
    "colab": {
      "name": "Trabalho Prático - Parte 1 - Grupo X.ipynb",
      "provenance": [],
      "include_colab_link": true
    }
  },
  "nbformat": 4,
  "nbformat_minor": 5
}